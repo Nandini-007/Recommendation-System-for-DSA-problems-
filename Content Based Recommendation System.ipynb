{
 "cells": [
  {
   "cell_type": "code",
   "execution_count": 2,
   "id": "55aba1df",
   "metadata": {},
   "outputs": [
    {
     "data": {
      "text/html": [
       "<div>\n",
       "<style scoped>\n",
       "    .dataframe tbody tr th:only-of-type {\n",
       "        vertical-align: middle;\n",
       "    }\n",
       "\n",
       "    .dataframe tbody tr th {\n",
       "        vertical-align: top;\n",
       "    }\n",
       "\n",
       "    .dataframe thead th {\n",
       "        text-align: right;\n",
       "    }\n",
       "</style>\n",
       "<table border=\"1\" class=\"dataframe\">\n",
       "  <thead>\n",
       "    <tr style=\"text-align: right;\">\n",
       "      <th></th>\n",
       "      <th>Links</th>\n",
       "      <th>Que_Language</th>\n",
       "      <th>vote_average</th>\n",
       "      <th>vote_count</th>\n",
       "      <th>Type</th>\n",
       "      <th>problems</th>\n",
       "      <th>Topic</th>\n",
       "    </tr>\n",
       "  </thead>\n",
       "  <tbody>\n",
       "    <tr>\n",
       "      <th>0</th>\n",
       "      <td>https://leetcode.com/problems/maximum-subarray/</td>\n",
       "      <td>English</td>\n",
       "      <td>7.2</td>\n",
       "      <td>11800</td>\n",
       "      <td>array</td>\n",
       "      <td>Given an integer array nums, find the \\nsubarr...</td>\n",
       "      <td>Maximum Subarray</td>\n",
       "    </tr>\n",
       "    <tr>\n",
       "      <th>1</th>\n",
       "      <td>https://leetcode.com/problems/best-time-to-buy...</td>\n",
       "      <td>English</td>\n",
       "      <td>6.9</td>\n",
       "      <td>4500</td>\n",
       "      <td>array</td>\n",
       "      <td>You are given an array prices where prices[i] ...</td>\n",
       "      <td>Best Time to Buy Sell Stock</td>\n",
       "    </tr>\n",
       "  </tbody>\n",
       "</table>\n",
       "</div>"
      ],
      "text/plain": [
       "                                              Links  Que_Language  \\\n",
       "0    https://leetcode.com/problems/maximum-subarray/      English   \n",
       "1  https://leetcode.com/problems/best-time-to-buy...      English   \n",
       "\n",
       "   vote_average  vote_count   Type  \\\n",
       "0           7.2       11800  array   \n",
       "1           6.9        4500  array   \n",
       "\n",
       "                                            problems  \\\n",
       "0  Given an integer array nums, find the \\nsubarr...   \n",
       "1  You are given an array prices where prices[i] ...   \n",
       "\n",
       "                         Topic  \n",
       "0             Maximum Subarray  \n",
       "1  Best Time to Buy Sell Stock  "
      ]
     },
     "execution_count": 2,
     "metadata": {},
     "output_type": "execute_result"
    }
   ],
   "source": [
    "import pandas as pd\n",
    "import numpy as np\n",
    "df= pd.read_csv(\"DSA.csv\")\n",
    "df.head(2)"
   ]
  },
  {
   "cell_type": "code",
   "execution_count": 3,
   "id": "90245c84",
   "metadata": {},
   "outputs": [
    {
     "data": {
      "text/plain": [
       "0    Given an integer array nums, find the \\nsubarr...\n",
       "Name: problems, dtype: object"
      ]
     },
     "execution_count": 3,
     "metadata": {},
     "output_type": "execute_result"
    }
   ],
   "source": [
    "df.head(1)['problems']"
   ]
  },
  {
   "cell_type": "code",
   "execution_count": null,
   "id": "fdfec2e9",
   "metadata": {},
   "outputs": [],
   "source": []
  },
  {
   "cell_type": "code",
   "execution_count": 4,
   "id": "99fabfb6",
   "metadata": {},
   "outputs": [],
   "source": [
    "from sklearn.feature_extraction.text import TfidfVectorizer\n",
    "\n",
    "tfv = TfidfVectorizer(min_df=3, max_features=None,\n",
    "                     strip_accents='unicode', analyzer='word', token_pattern=r'\\w{1,}',\n",
    "                     ngram_range=(1,2),\n",
    "                     stop_words ='english')"
   ]
  },
  {
   "cell_type": "code",
   "execution_count": 5,
   "id": "896dabf8",
   "metadata": {},
   "outputs": [],
   "source": [
    "df['problems'] = df['problems'].fillna('')\n",
    "\n",
    "#Fitting  the TF_IDF on the 'problem' text\n",
    "\n",
    "tfv_matrix = tfv.fit_transform(df['problems'])"
   ]
  },
  {
   "cell_type": "code",
   "execution_count": 6,
   "id": "03396dce",
   "metadata": {},
   "outputs": [
    {
     "data": {
      "text/plain": [
       "<83x179 sparse matrix of type '<class 'numpy.float64'>'\n",
       "\twith 1221 stored elements in Compressed Sparse Row format>"
      ]
     },
     "execution_count": 6,
     "metadata": {},
     "output_type": "execute_result"
    }
   ],
   "source": [
    "tfv_matrix"
   ]
  },
  {
   "cell_type": "code",
   "execution_count": 22,
   "id": "c9e11d44",
   "metadata": {},
   "outputs": [
    {
     "name": "stdout",
     "output_type": "stream",
     "text": [
      "  (0, 16)\t0.2786369790128709\n",
      "  (0, 67)\t0.270643172705671\n",
      "  (0, 49)\t0.270643172705671\n",
      "  (0, 134)\t0.13246235317559987\n",
      "  (0, 162)\t0.5747864062323935\n",
      "  (0, 77)\t0.37157358141956986\n",
      "  (0, 160)\t0.37157358141956986\n",
      "  (0, 110)\t0.25014279230002456\n",
      "  (0, 14)\t0.18957735765810318\n",
      "  (0, 66)\t0.20696317480794427\n",
      "  (0, 46)\t0.10228241609892472\n",
      "  (1, 72)\t0.25565104086052254\n",
      "  (1, 157)\t0.25565104086052254\n",
      "  (1, 53)\t0.25565104086052254\n",
      "  (1, 125)\t0.24345369085907229\n",
      "  (1, 127)\t0.25565104086052254\n",
      "  (1, 128)\t0.25565104086052254\n",
      "  (1, 17)\t0.25565104086052254\n",
      "  (1, 47)\t0.18215365066478706\n",
      "  (1, 30)\t0.24345369085907229\n",
      "  (1, 71)\t0.24345369085907229\n",
      "  (1, 156)\t0.24345369085907229\n",
      "  (1, 124)\t0.24345369085907229\n",
      "  (1, 126)\t0.48690738171814457\n",
      "  (1, 14)\t0.13804998122587972\n",
      "  :\t:\n",
      "  (81, 18)\t0.6178603346393137\n",
      "  (81, 45)\t0.44755825392059784\n",
      "  (81, 102)\t0.2874452755557013\n",
      "  (81, 173)\t0.3461634696523082\n",
      "  (81, 176)\t0.44755825392059784\n",
      "  (81, 46)\t0.12319858527381251\n",
      "  (82, 103)\t0.21084733818418477\n",
      "  (82, 166)\t0.21084733818418477\n",
      "  (82, 168)\t0.18735465009833707\n",
      "  (82, 19)\t0.18125005149930526\n",
      "  (82, 144)\t0.18735465009833707\n",
      "  (82, 52)\t0.18735465009833707\n",
      "  (82, 165)\t0.21084733818418477\n",
      "  (82, 167)\t0.18125005149930526\n",
      "  (82, 143)\t0.18735465009833707\n",
      "  (82, 18)\t0.1617548171464124\n",
      "  (82, 80)\t0.46868005254006495\n",
      "  (82, 174)\t0.18125005149930526\n",
      "  (82, 102)\t0.1505053986488879\n",
      "  (82, 141)\t0.37470930019667414\n",
      "  (82, 78)\t0.3883580214461561\n",
      "  (82, 37)\t0.19417901072307805\n",
      "  (82, 114)\t0.1382621290605647\n",
      "  (82, 134)\t0.08353993091858045\n",
      "  (82, 46)\t0.06450637309577584\n",
      "TF-IDF Matrix: [[0.         0.         0.         ... 0.         0.         0.        ]\n",
      " [0.         0.         0.         ... 0.         0.         0.        ]\n",
      " [0.         0.         0.         ... 0.         0.         0.        ]\n",
      " ...\n",
      " [0.         0.         0.         ... 0.         0.         0.        ]\n",
      " [0.         0.         0.         ... 0.44755825 0.         0.        ]\n",
      " [0.         0.         0.         ... 0.         0.         0.        ]]\n"
     ]
    }
   ],
   "source": [
    "tfv_matrix.shape\n",
    "print (tfv_matrix)\n",
    "print(\"TF-IDF Matrix:\", tfv_matrix.toarray())"
   ]
  },
  {
   "cell_type": "code",
   "execution_count": 26,
   "id": "5715445b",
   "metadata": {},
   "outputs": [
    {
     "name": "stdout",
     "output_type": "stream",
     "text": [
      "[[1.         0.04140753 0.12226158 ... 0.15735125 0.01260105 0.01766376]\n",
      " [0.04140753 1.         0.76640207 ... 0.00457901 0.01835213 0.00960912]\n",
      " [0.12226158 0.76640207 1.         ... 0.0332264  0.01168297 0.011247  ]\n",
      " ...\n",
      " [0.15735125 0.00457901 0.0332264  ... 1.         0.14026823 0.21374148]\n",
      " [0.01260105 0.01835213 0.01168297 ... 0.14026823 1.         0.15115105]\n",
      " [0.01766376 0.00960912 0.011247   ... 0.21374148 0.15115105 1.        ]]\n"
     ]
    }
   ],
   "source": [
    "from sklearn.metrics.pairwise import cosine_similarity\n",
    "cosine_sim = cosine_similarity(tfv_matrix)\n",
    "print(cosine_sim)\n"
   ]
  },
  {
   "cell_type": "code",
   "execution_count": 29,
   "id": "472f1d06",
   "metadata": {},
   "outputs": [],
   "source": [
    "from sklearn.metrics import jaccard_score\n",
    "jaccard_sim = jaccard_"
   ]
  },
  {
   "cell_type": "code",
   "execution_count": 8,
   "id": "4cfb5662",
   "metadata": {},
   "outputs": [],
   "source": [
    "from sklearn.metrics.pairwise import sigmoid_kernel\n",
    "\n",
    "sig = sigmoid_kernel(tfv_matrix, tfv_matrix)"
   ]
  },
  {
   "cell_type": "code",
   "execution_count": 9,
   "id": "e703797a",
   "metadata": {},
   "outputs": [
    {
     "data": {
      "text/plain": [
       "array([0.76393042, 0.76169129, 0.76188086, 0.76167808, 0.7619731 ,\n",
       "       0.76189184, 0.76182575, 0.76159416, 0.76192402, 0.7621033 ,\n",
       "       0.76162185, 0.76232014, 0.76184372, 0.76286434, 0.76170008,\n",
       "       0.76176955, 0.76159416, 0.76165578, 0.76163257, 0.76247176,\n",
       "       0.76217505, 0.76207472, 0.7618235 , 0.7616694 , 0.76205301,\n",
       "       0.76189914, 0.76182032, 0.7616852 , 0.7623866 , 0.76164435,\n",
       "       0.76163112, 0.76179245, 0.76167313, 0.76163263, 0.76178763,\n",
       "       0.76159416, 0.7617345 , 0.76159416, 0.76165275, 0.76167425,\n",
       "       0.76163515, 0.76167055, 0.76165428, 0.76161717, 0.76188711,\n",
       "       0.76164719, 0.7616387 , 0.76164521, 0.76166742, 0.76165307,\n",
       "       0.76160415, 0.76162087, 0.76162148, 0.76164361, 0.761729  ,\n",
       "       0.76160904, 0.76159416, 0.76172257, 0.76214622, 0.76217007,\n",
       "       0.76230518, 0.76159781, 0.76185216, 0.76170384, 0.76162644,\n",
       "       0.76159416, 0.76159416, 0.76160823, 0.76165345, 0.76184424,\n",
       "       0.76232528, 0.76215756, 0.76207881, 0.76165718, 0.76165718,\n",
       "       0.76165718, 0.76163448, 0.76163271, 0.76163601, 0.76162824,\n",
       "       0.76196309, 0.76162372, 0.7616356 ])"
      ]
     },
     "execution_count": 9,
     "metadata": {},
     "output_type": "execute_result"
    }
   ],
   "source": [
    "sig[0]"
   ]
  },
  {
   "cell_type": "code",
   "execution_count": 10,
   "id": "a948ee5b",
   "metadata": {},
   "outputs": [],
   "source": [
    "indices = pd.Series(df.index, index= df['Topic']).drop_duplicates()"
   ]
  },
  {
   "cell_type": "code",
   "execution_count": 11,
   "id": "854c31e0",
   "metadata": {},
   "outputs": [
    {
     "data": {
      "text/plain": [
       "Topic\n",
       " Maximum Subarray                            0\n",
       "Best Time to Buy Sell Stock                  1\n",
       " Best Time to Buy Sell Stock II              2\n",
       "Best Time to Buy Sell Stock III              3\n",
       "Best Time to Buy Sell Stock IV               4\n",
       "                                            ..\n",
       "Balanced Binary Tree                        78\n",
       "Diameter of Binary Tree                     79\n",
       "Binary Tree Maximum Path Sum                80\n",
       "Same Tree                                   81\n",
       "Binary Tree Zigzag Level Order Traversal    82\n",
       "Length: 83, dtype: int64"
      ]
     },
     "execution_count": 11,
     "metadata": {},
     "output_type": "execute_result"
    }
   ],
   "source": [
    "indices\n"
   ]
  },
  {
   "cell_type": "code",
   "execution_count": 12,
   "id": "f42fc281",
   "metadata": {},
   "outputs": [],
   "source": [
    "def give_rec(Topic, sig=sig):\n",
    "    \n",
    "    idx = indices[Topic]\n",
    "    \n",
    "    sig = list(enumerate(sig[idx]))\n",
    "    \n",
    "    sig = sorted(sig, reverse= True, key=lambda x: x[1])\n",
    "    \n",
    "    sig = sig[1:10]\n",
    "    \n",
    "    q_indices = [i[0] for i in sig]\n",
    "    \n",
    "    return df['Topic'].iloc[q_indices]"
   ]
  },
  {
   "cell_type": "code",
   "execution_count": 13,
   "id": "e4bb49da",
   "metadata": {},
   "outputs": [
    {
     "data": {
      "text/plain": [
       "3                      Best Time to Buy Sell Stock III\n",
       "2                       Best Time to Buy Sell Stock II\n",
       "4                       Best Time to Buy Sell Stock IV\n",
       "61                  Minimum Cost Tree From Leaf Values\n",
       "71                              Grumpy Bookstore Owner\n",
       "59                            Sum of Subarray Minimums\n",
       "13    Count the number of subarrays having a given XOR\n",
       "31                                          Flood Fill\n",
       "14                                    Fibonacci Number\n",
       "Name: Topic, dtype: object"
      ]
     },
     "execution_count": 13,
     "metadata": {},
     "output_type": "execute_result"
    }
   ],
   "source": [
    "give_rec(\"Best Time to Buy Sell Stock\")"
   ]
  },
  {
   "cell_type": "code",
   "execution_count": 14,
   "id": "33204113",
   "metadata": {},
   "outputs": [
    {
     "data": {
      "text/plain": [
       "array([0.76393042, 0.76169129, 0.76188086, 0.76167808, 0.7619731 ,\n",
       "       0.76189184, 0.76182575, 0.76159416, 0.76192402, 0.7621033 ,\n",
       "       0.76162185, 0.76232014, 0.76184372, 0.76286434, 0.76170008,\n",
       "       0.76176955, 0.76159416, 0.76165578, 0.76163257, 0.76247176,\n",
       "       0.76217505, 0.76207472, 0.7618235 , 0.7616694 , 0.76205301,\n",
       "       0.76189914, 0.76182032, 0.7616852 , 0.7623866 , 0.76164435,\n",
       "       0.76163112, 0.76179245, 0.76167313, 0.76163263, 0.76178763,\n",
       "       0.76159416, 0.7617345 , 0.76159416, 0.76165275, 0.76167425,\n",
       "       0.76163515, 0.76167055, 0.76165428, 0.76161717, 0.76188711,\n",
       "       0.76164719, 0.7616387 , 0.76164521, 0.76166742, 0.76165307,\n",
       "       0.76160415, 0.76162087, 0.76162148, 0.76164361, 0.761729  ,\n",
       "       0.76160904, 0.76159416, 0.76172257, 0.76214622, 0.76217007,\n",
       "       0.76230518, 0.76159781, 0.76185216, 0.76170384, 0.76162644,\n",
       "       0.76159416, 0.76159416, 0.76160823, 0.76165345, 0.76184424,\n",
       "       0.76232528, 0.76215756, 0.76207881, 0.76165718, 0.76165718,\n",
       "       0.76165718, 0.76163448, 0.76163271, 0.76163601, 0.76162824,\n",
       "       0.76196309, 0.76162372, 0.7616356 ])"
      ]
     },
     "execution_count": 14,
     "metadata": {},
     "output_type": "execute_result"
    }
   ],
   "source": [
    "sig[0]"
   ]
  },
  {
   "cell_type": "code",
   "execution_count": 15,
   "id": "13836f5e",
   "metadata": {},
   "outputs": [
    {
     "data": {
      "text/plain": [
       "[(0, 0.7616360063091577),\n",
       " (1, 0.7616551045884763),\n",
       " (2, 0.7616329574172147),\n",
       " (3, 0.7616468152120764),\n",
       " (4, 0.7616409614358475),\n",
       " (5, 0.7616291531767587),\n",
       " (6, 0.7616238965425153),\n",
       " (7, 0.7615941559557649),\n",
       " (8, 0.7616186779634092),\n",
       " (9, 0.7616327180224041),\n",
       " (10, 0.7616117971807751),\n",
       " (11, 0.7616151676382641),\n",
       " (12, 0.7616293575777743),\n",
       " (13, 0.7616407167635856),\n",
       " (14, 0.7616348834545875),\n",
       " (15, 0.7616119739716943),\n",
       " (16, 0.7615941559557649),\n",
       " (17, 0.7616334041631001),\n",
       " (18, 0.7616596574807121),\n",
       " (19, 0.761634002738637),\n",
       " (20, 0.7616193917704271),\n",
       " (21, 0.761632854155246),\n",
       " (22, 0.7616393372905035),\n",
       " (23, 0.7616236225218553),\n",
       " (24, 0.7616293756935686),\n",
       " (25, 0.7616251447358754),\n",
       " (26, 0.7615941559557649),\n",
       " (27, 0.7616521480165667),\n",
       " (28, 0.76162413026191),\n",
       " (29, 0.7616261251906739),\n",
       " (30, 0.7616176986032681),\n",
       " (31, 0.7616202068032346),\n",
       " (32, 0.7616140450385378),\n",
       " (33, 0.7616186603036567),\n",
       " (34, 0.761615515324734),\n",
       " (35, 0.7615941559557649),\n",
       " (36, 0.7621010622169374),\n",
       " (37, 0.7615941559557649),\n",
       " (38, 0.7616314772550771),\n",
       " (39, 0.7616255221846685),\n",
       " (40, 0.7616202658694754),\n",
       " (41, 0.7616154679208846),\n",
       " (42, 0.7616324529709949),\n",
       " (43, 0.761633401851664),\n",
       " (44, 0.7616212185837004),\n",
       " (45, 0.7616149233675208),\n",
       " (46, 0.7617824766135762),\n",
       " (47, 0.7616141512808667),\n",
       " (48, 0.7616126071373683),\n",
       " (49, 0.7616316801880479),\n",
       " (50, 0.7616111912060979),\n",
       " (51, 0.7616397012197941),\n",
       " (52, 0.7617209851680297),\n",
       " (53, 0.7616256527267605),\n",
       " (54, 0.7616281168393789),\n",
       " (55, 0.7618680042889322),\n",
       " (56, 0.7615941559557649),\n",
       " (57, 0.7617326042067004),\n",
       " (58, 0.7616099531630844),\n",
       " (59, 0.7616450599789379),\n",
       " (60, 0.7616287396383811),\n",
       " (61, 0.7616003828444542),\n",
       " (62, 0.7616180811736734),\n",
       " (63, 0.7616145139703685),\n",
       " (64, 0.7615941559557649),\n",
       " (65, 0.7617527956046609),\n",
       " (66, 0.7615941559557649),\n",
       " (67, 0.7616181607634276),\n",
       " (68, 0.7618692706056053),\n",
       " (69, 0.7616249530910484),\n",
       " (70, 0.7616181554324637),\n",
       " (71, 0.7616368313899503),\n",
       " (72, 0.7618169595679005),\n",
       " (73, 0.7625190965516172),\n",
       " (74, 0.7625190965516172),\n",
       " (75, 0.7625190965516172),\n",
       " (76, 0.7621862622248969),\n",
       " (77, 0.7627007265316574),\n",
       " (78, 0.763930416896351),\n",
       " (79, 0.7629139959251181),\n",
       " (80, 0.7621615542849938),\n",
       " (81, 0.7622777000290318),\n",
       " (82, 0.7622026417617802)]"
      ]
     },
     "execution_count": 15,
     "metadata": {},
     "output_type": "execute_result"
    }
   ],
   "source": [
    "list(enumerate(sig[indices['Balanced Binary Tree']]))"
   ]
  },
  {
   "cell_type": "code",
   "execution_count": 16,
   "id": "549bf897",
   "metadata": {},
   "outputs": [
    {
     "data": {
      "text/plain": [
       "[(78, 0.763930416896351),\n",
       " (79, 0.7629139959251181),\n",
       " (77, 0.7627007265316574),\n",
       " (73, 0.7625190965516172),\n",
       " (74, 0.7625190965516172),\n",
       " (75, 0.7625190965516172),\n",
       " (81, 0.7622777000290318),\n",
       " (82, 0.7622026417617802),\n",
       " (76, 0.7621862622248969),\n",
       " (80, 0.7621615542849938),\n",
       " (36, 0.7621010622169374),\n",
       " (68, 0.7618692706056053),\n",
       " (55, 0.7618680042889322),\n",
       " (72, 0.7618169595679005),\n",
       " (46, 0.7617824766135762),\n",
       " (65, 0.7617527956046609),\n",
       " (57, 0.7617326042067004),\n",
       " (52, 0.7617209851680297),\n",
       " (18, 0.7616596574807121),\n",
       " (1, 0.7616551045884763),\n",
       " (27, 0.7616521480165667),\n",
       " (3, 0.7616468152120764),\n",
       " (59, 0.7616450599789379),\n",
       " (4, 0.7616409614358475),\n",
       " (13, 0.7616407167635856),\n",
       " (51, 0.7616397012197941),\n",
       " (22, 0.7616393372905035),\n",
       " (71, 0.7616368313899503),\n",
       " (0, 0.7616360063091577),\n",
       " (14, 0.7616348834545875),\n",
       " (19, 0.761634002738637),\n",
       " (17, 0.7616334041631001),\n",
       " (43, 0.761633401851664),\n",
       " (2, 0.7616329574172147),\n",
       " (21, 0.761632854155246),\n",
       " (9, 0.7616327180224041),\n",
       " (42, 0.7616324529709949),\n",
       " (49, 0.7616316801880479),\n",
       " (38, 0.7616314772550771),\n",
       " (24, 0.7616293756935686),\n",
       " (12, 0.7616293575777743),\n",
       " (5, 0.7616291531767587),\n",
       " (60, 0.7616287396383811),\n",
       " (54, 0.7616281168393789),\n",
       " (29, 0.7616261251906739),\n",
       " (53, 0.7616256527267605),\n",
       " (39, 0.7616255221846685),\n",
       " (25, 0.7616251447358754),\n",
       " (69, 0.7616249530910484),\n",
       " (28, 0.76162413026191),\n",
       " (6, 0.7616238965425153),\n",
       " (23, 0.7616236225218553),\n",
       " (44, 0.7616212185837004),\n",
       " (40, 0.7616202658694754),\n",
       " (31, 0.7616202068032346),\n",
       " (20, 0.7616193917704271),\n",
       " (8, 0.7616186779634092),\n",
       " (33, 0.7616186603036567),\n",
       " (67, 0.7616181607634276),\n",
       " (70, 0.7616181554324637),\n",
       " (62, 0.7616180811736734),\n",
       " (30, 0.7616176986032681),\n",
       " (34, 0.761615515324734),\n",
       " (41, 0.7616154679208846),\n",
       " (11, 0.7616151676382641),\n",
       " (45, 0.7616149233675208),\n",
       " (63, 0.7616145139703685),\n",
       " (47, 0.7616141512808667),\n",
       " (32, 0.7616140450385378),\n",
       " (48, 0.7616126071373683),\n",
       " (15, 0.7616119739716943),\n",
       " (10, 0.7616117971807751),\n",
       " (50, 0.7616111912060979),\n",
       " (58, 0.7616099531630844),\n",
       " (61, 0.7616003828444542),\n",
       " (7, 0.7615941559557649),\n",
       " (16, 0.7615941559557649),\n",
       " (26, 0.7615941559557649),\n",
       " (35, 0.7615941559557649),\n",
       " (37, 0.7615941559557649),\n",
       " (56, 0.7615941559557649),\n",
       " (64, 0.7615941559557649),\n",
       " (66, 0.7615941559557649)]"
      ]
     },
     "execution_count": 16,
     "metadata": {},
     "output_type": "execute_result"
    }
   ],
   "source": [
    "sorted(list(enumerate(sig[indices['Balanced Binary Tree']])), key=lambda x: x[1], reverse=True)\n",
    "\n",
    "\n"
   ]
  },
  {
   "cell_type": "code",
   "execution_count": 17,
   "id": "b99d0061",
   "metadata": {},
   "outputs": [
    {
     "data": {
      "text/plain": [
       "70                                Sliding Window Median\n",
       "51    Convert Binary Number in a Linked List to Integer\n",
       "5                             Find the Duplicate Number\n",
       "12                         Longest Consecutive Sequence\n",
       "23                                      Combination Sum\n",
       "72                             Max Consecutive Ones III\n",
       "59                             Sum of Subarray Minimums\n",
       "28                              Palindrome Partitioning\n",
       "82             Binary Tree Zigzag Level Order Traversal\n",
       "Name: Topic, dtype: object"
      ]
     },
     "execution_count": 17,
     "metadata": {},
     "output_type": "execute_result"
    }
   ],
   "source": [
    "give_rec(\"Sliding Window Maximum\")"
   ]
  },
  {
   "cell_type": "code",
   "execution_count": 18,
   "id": "14a4af09",
   "metadata": {},
   "outputs": [
    {
     "data": {
      "text/plain": [
       "5                            Find the Duplicate Number\n",
       "13    Count the number of subarrays having a given XOR\n",
       "67                              Rotting Oranges (VVVI)\n",
       "14                                    Fibonacci Number\n",
       "60                                   Online Stock Span\n",
       "69                              Sliding Window Maximum\n",
       "31                                          Flood Fill\n",
       "72                            Max Consecutive Ones III\n",
       "0                                     Maximum Subarray\n",
       "Name: Topic, dtype: object"
      ]
     },
     "execution_count": 18,
     "metadata": {},
     "output_type": "execute_result"
    }
   ],
   "source": [
    "give_rec(\"Sum of Subarray Minimums\")"
   ]
  },
  {
   "cell_type": "code",
   "execution_count": 19,
   "id": "487fdee0",
   "metadata": {},
   "outputs": [
    {
     "data": {
      "text/plain": [
       "54                     Valid Parentheses\n",
       "52    Remove Duplicates from Sorted List\n",
       "42          Delete Node in a Linked List\n",
       "48                Palindrome Linked List\n",
       "46                  Linked List Cycle II\n",
       "38             Middle of the Linked List\n",
       "47              Reverse Nodes in k-Group\n",
       "53           Remove Linked List Elements\n",
       "39                Merge Two Sorted Lists\n",
       "Name: Topic, dtype: object"
      ]
     },
     "execution_count": 19,
     "metadata": {},
     "output_type": "execute_result"
    }
   ],
   "source": [
    "give_rec(\"Convert Binary Number in a Linked List to Integer\")"
   ]
  },
  {
   "cell_type": "code",
   "execution_count": 20,
   "id": "bc1cfd0d",
   "metadata": {},
   "outputs": [
    {
     "data": {
      "text/plain": [
       "79                     Diameter of Binary Tree\n",
       "77                Maximum Depth of Binary Tree\n",
       "73              Binary Tree Preorder Traversal\n",
       "74               Binary Tree Inorder Traversal\n",
       "75             Binary Tree Postorder Traversal\n",
       "81                                   Same Tree\n",
       "82    Binary Tree Zigzag Level Order Traversal\n",
       "76           Binary Tree Level Order Traversal\n",
       "80                Binary Tree Maximum Path Sum\n",
       "Name: Topic, dtype: object"
      ]
     },
     "execution_count": 20,
     "metadata": {},
     "output_type": "execute_result"
    }
   ],
   "source": [
    "give_rec(\"Balanced Binary Tree\")"
   ]
  },
  {
   "cell_type": "code",
   "execution_count": null,
   "id": "c42834a2",
   "metadata": {},
   "outputs": [],
   "source": []
  },
  {
   "cell_type": "code",
   "execution_count": null,
   "id": "45a9d1c9",
   "metadata": {},
   "outputs": [],
   "source": []
  }
 ],
 "metadata": {
  "kernelspec": {
   "display_name": "Python 3 (ipykernel)",
   "language": "python",
   "name": "python3"
  },
  "language_info": {
   "codemirror_mode": {
    "name": "ipython",
    "version": 3
   },
   "file_extension": ".py",
   "mimetype": "text/x-python",
   "name": "python",
   "nbconvert_exporter": "python",
   "pygments_lexer": "ipython3",
   "version": "3.9.13"
  }
 },
 "nbformat": 4,
 "nbformat_minor": 5
}
